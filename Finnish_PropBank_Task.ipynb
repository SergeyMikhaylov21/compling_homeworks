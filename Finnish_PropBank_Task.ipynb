{
 "cells": [
  {
   "cell_type": "code",
   "execution_count": 1,
   "metadata": {
    "collapsed": true
   },
   "outputs": [],
   "source": [
    "import csv\n",
    "import pandas as pd\n",
    "from sklearn.tree import DecisionTreeClassifier\n",
    "from sklearn import preprocessing"
   ]
  },
  {
   "cell_type": "code",
   "execution_count": 2,
   "metadata": {
    "collapsed": false
   },
   "outputs": [],
   "source": [
    "def conllu_to_df(from_file, to_file):\n",
    "    data = []\n",
    "    with open(from_file, encoding='utf-8') as rdata:\n",
    "        lines = rdata.read().split('\\n')\n",
    "        for line in lines:\n",
    "            strok = line.split('\\t')\n",
    "            if len(strok) == 1:\n",
    "                continue\n",
    "            data.append(strok)\n",
    "\n",
    "    with open(to_file, \"w\", encoding='utf-8') as f:\n",
    "        writer = csv.writer(f)\n",
    "        writer.writerows(data)\n",
    "    \n",
    "    df = pd.read_csv(to_file, names = \n",
    "                 [\"ID\", \"TOKEN\", \"LEM\", \"POS\", \"POSABBR\", \"FEATS\", \"HEAD\", \"DEPREL\", \"DEPRELS\", \"MISC\"])\n",
    "\n",
    "    df[[\"ID\", \"TOKEN\", \"LEM\", \"POS\", \"POSABBR\", \"FEATS\", \"HEAD\", \"DEPREL\", \"DEPRELS\", \"MISC\"]] = df[[\"ID\", \"TOKEN\", \"LEM\", \"POS\", \"POSABBR\", \"FEATS\", \"HEAD\", \"DEPREL\", \"DEPRELS\", \"MISC\"]].astype(str)\n",
    "    return df"
   ]
  },
  {
   "cell_type": "code",
   "execution_count": 3,
   "metadata": {
    "collapsed": true
   },
   "outputs": [],
   "source": [
    "traindf = conllu_to_df('fipb-ud-train.conllu', 'traindata.csv')\n",
    "devdf = conllu_to_df('fipb-ud-dev.conllu', 'devdata.csv')\n",
    "testdf = conllu_to_df('fipb-ud-test.conllu', 'testdata.csv')"
   ]
  },
  {
   "cell_type": "code",
   "execution_count": 4,
   "metadata": {
    "collapsed": false
   },
   "outputs": [
    {
     "data": {
      "text/html": [
       "<div>\n",
       "<table border=\"1\" class=\"dataframe\">\n",
       "  <thead>\n",
       "    <tr style=\"text-align: right;\">\n",
       "      <th></th>\n",
       "      <th>ID</th>\n",
       "      <th>TOKEN</th>\n",
       "      <th>LEM</th>\n",
       "      <th>POS</th>\n",
       "      <th>POSABBR</th>\n",
       "      <th>FEATS</th>\n",
       "      <th>HEAD</th>\n",
       "      <th>DEPREL</th>\n",
       "      <th>DEPRELS</th>\n",
       "      <th>MISC</th>\n",
       "    </tr>\n",
       "  </thead>\n",
       "  <tbody>\n",
       "    <tr>\n",
       "      <th>0</th>\n",
       "      <td>1</td>\n",
       "      <td>Kävelyreitti</td>\n",
       "      <td>kävely#reitti</td>\n",
       "      <td>NOUN</td>\n",
       "      <td>N</td>\n",
       "      <td>Case=Nom|Number=Sing</td>\n",
       "      <td>0</td>\n",
       "      <td>root</td>\n",
       "      <td>_</td>\n",
       "      <td>_</td>\n",
       "    </tr>\n",
       "    <tr>\n",
       "      <th>1</th>\n",
       "      <td>2</td>\n",
       "      <td>III</td>\n",
       "      <td>III</td>\n",
       "      <td>ADJ</td>\n",
       "      <td>Num</td>\n",
       "      <td>NumType=Ord</td>\n",
       "      <td>1</td>\n",
       "      <td>nummod</td>\n",
       "      <td>_</td>\n",
       "      <td>_</td>\n",
       "    </tr>\n",
       "    <tr>\n",
       "      <th>2</th>\n",
       "      <td>1</td>\n",
       "      <td>Jäällä</td>\n",
       "      <td>jää</td>\n",
       "      <td>NOUN</td>\n",
       "      <td>N</td>\n",
       "      <td>Case=Ade|Number=Sing</td>\n",
       "      <td>2</td>\n",
       "      <td>nmod</td>\n",
       "      <td>_</td>\n",
       "      <td>_</td>\n",
       "    </tr>\n",
       "    <tr>\n",
       "      <th>3</th>\n",
       "      <td>2</td>\n",
       "      <td>kävely</td>\n",
       "      <td>kävely</td>\n",
       "      <td>NOUN</td>\n",
       "      <td>N</td>\n",
       "      <td>Case=Nom|Number=Sing</td>\n",
       "      <td>3</td>\n",
       "      <td>nsubj</td>\n",
       "      <td>3:PBArg_0</td>\n",
       "      <td>_</td>\n",
       "    </tr>\n",
       "    <tr>\n",
       "      <th>4</th>\n",
       "      <td>3</td>\n",
       "      <td>avaa</td>\n",
       "      <td>avata</td>\n",
       "      <td>VERB</td>\n",
       "      <td>V</td>\n",
       "      <td>Mood=Ind|Number=Sing|Person=3|Tense=Pres|VerbF...</td>\n",
       "      <td>0</td>\n",
       "      <td>root</td>\n",
       "      <td>_</td>\n",
       "      <td>PBSENSE=avata.1</td>\n",
       "    </tr>\n",
       "  </tbody>\n",
       "</table>\n",
       "</div>"
      ],
      "text/plain": [
       "  ID         TOKEN            LEM   POS POSABBR  \\\n",
       "0  1  Kävelyreitti  kävely#reitti  NOUN       N   \n",
       "1  2           III            III   ADJ     Num   \n",
       "2  1        Jäällä            jää  NOUN       N   \n",
       "3  2        kävely         kävely  NOUN       N   \n",
       "4  3          avaa          avata  VERB       V   \n",
       "\n",
       "                                               FEATS HEAD  DEPREL    DEPRELS  \\\n",
       "0                               Case=Nom|Number=Sing    0    root          _   \n",
       "1                                        NumType=Ord    1  nummod          _   \n",
       "2                               Case=Ade|Number=Sing    2    nmod          _   \n",
       "3                               Case=Nom|Number=Sing    3   nsubj  3:PBArg_0   \n",
       "4  Mood=Ind|Number=Sing|Person=3|Tense=Pres|VerbF...    0    root          _   \n",
       "\n",
       "              MISC  \n",
       "0                _  \n",
       "1                _  \n",
       "2                _  \n",
       "3                _  \n",
       "4  PBSENSE=avata.1  "
      ]
     },
     "execution_count": 4,
     "metadata": {},
     "output_type": "execute_result"
    }
   ],
   "source": [
    "traindf.head()"
   ]
  },
  {
   "cell_type": "code",
   "execution_count": 5,
   "metadata": {
    "collapsed": false
   },
   "outputs": [
    {
     "data": {
      "text/html": [
       "<div>\n",
       "<table border=\"1\" class=\"dataframe\">\n",
       "  <thead>\n",
       "    <tr style=\"text-align: right;\">\n",
       "      <th></th>\n",
       "      <th>ID</th>\n",
       "      <th>TOKEN</th>\n",
       "      <th>LEM</th>\n",
       "      <th>POS</th>\n",
       "      <th>POSABBR</th>\n",
       "      <th>FEATS</th>\n",
       "      <th>HEAD</th>\n",
       "      <th>DEPREL</th>\n",
       "      <th>DEPRELS</th>\n",
       "      <th>MISC</th>\n",
       "    </tr>\n",
       "  </thead>\n",
       "  <tbody>\n",
       "    <tr>\n",
       "      <th>0</th>\n",
       "      <td>1</td>\n",
       "      <td>The</td>\n",
       "      <td>The</td>\n",
       "      <td>PROPN</td>\n",
       "      <td>N</td>\n",
       "      <td>_</td>\n",
       "      <td>0</td>\n",
       "      <td>root</td>\n",
       "      <td>_</td>\n",
       "      <td>_</td>\n",
       "    </tr>\n",
       "    <tr>\n",
       "      <th>1</th>\n",
       "      <td>2</td>\n",
       "      <td>Garden</td>\n",
       "      <td>Garden</td>\n",
       "      <td>PROPN</td>\n",
       "      <td>N</td>\n",
       "      <td>_</td>\n",
       "      <td>1</td>\n",
       "      <td>name</td>\n",
       "      <td>_</td>\n",
       "      <td>_</td>\n",
       "    </tr>\n",
       "    <tr>\n",
       "      <th>2</th>\n",
       "      <td>3</td>\n",
       "      <td>Collection</td>\n",
       "      <td>Collection</td>\n",
       "      <td>PROPN</td>\n",
       "      <td>N</td>\n",
       "      <td>_</td>\n",
       "      <td>1</td>\n",
       "      <td>name</td>\n",
       "      <td>_</td>\n",
       "      <td>_</td>\n",
       "    </tr>\n",
       "    <tr>\n",
       "      <th>3</th>\n",
       "      <td>4</td>\n",
       "      <td>by</td>\n",
       "      <td>by</td>\n",
       "      <td>PROPN</td>\n",
       "      <td>N</td>\n",
       "      <td>_</td>\n",
       "      <td>1</td>\n",
       "      <td>name</td>\n",
       "      <td>_</td>\n",
       "      <td>_</td>\n",
       "    </tr>\n",
       "    <tr>\n",
       "      <th>4</th>\n",
       "      <td>5</td>\n",
       "      <td>H&amp;M</td>\n",
       "      <td>H&amp;M</td>\n",
       "      <td>PROPN</td>\n",
       "      <td>N</td>\n",
       "      <td>Abbr=Yes|Case=Nom|Number=Sing</td>\n",
       "      <td>1</td>\n",
       "      <td>name</td>\n",
       "      <td>_</td>\n",
       "      <td>_</td>\n",
       "    </tr>\n",
       "  </tbody>\n",
       "</table>\n",
       "</div>"
      ],
      "text/plain": [
       "  ID       TOKEN         LEM    POS POSABBR                          FEATS  \\\n",
       "0  1         The         The  PROPN       N                              _   \n",
       "1  2      Garden      Garden  PROPN       N                              _   \n",
       "2  3  Collection  Collection  PROPN       N                              _   \n",
       "3  4          by          by  PROPN       N                              _   \n",
       "4  5         H&M         H&M  PROPN       N  Abbr=Yes|Case=Nom|Number=Sing   \n",
       "\n",
       "  HEAD DEPREL DEPRELS MISC  \n",
       "0    0   root       _    _  \n",
       "1    1   name       _    _  \n",
       "2    1   name       _    _  \n",
       "3    1   name       _    _  \n",
       "4    1   name       _    _  "
      ]
     },
     "execution_count": 5,
     "metadata": {},
     "output_type": "execute_result"
    }
   ],
   "source": [
    "devdf.head()"
   ]
  },
  {
   "cell_type": "code",
   "execution_count": 6,
   "metadata": {
    "collapsed": false
   },
   "outputs": [
    {
     "data": {
      "text/html": [
       "<div>\n",
       "<table border=\"1\" class=\"dataframe\">\n",
       "  <thead>\n",
       "    <tr style=\"text-align: right;\">\n",
       "      <th></th>\n",
       "      <th>ID</th>\n",
       "      <th>TOKEN</th>\n",
       "      <th>LEM</th>\n",
       "      <th>POS</th>\n",
       "      <th>POSABBR</th>\n",
       "      <th>FEATS</th>\n",
       "      <th>HEAD</th>\n",
       "      <th>DEPREL</th>\n",
       "      <th>DEPRELS</th>\n",
       "      <th>MISC</th>\n",
       "    </tr>\n",
       "  </thead>\n",
       "  <tbody>\n",
       "    <tr>\n",
       "      <th>0</th>\n",
       "      <td>1</td>\n",
       "      <td>Pelkkää</td>\n",
       "      <td>pelkkä</td>\n",
       "      <td>ADJ</td>\n",
       "      <td>A</td>\n",
       "      <td>Case=Par|Degree=Pos|Number=Sing</td>\n",
       "      <td>2</td>\n",
       "      <td>amod</td>\n",
       "      <td>_</td>\n",
       "      <td>_</td>\n",
       "    </tr>\n",
       "    <tr>\n",
       "      <th>1</th>\n",
       "      <td>2</td>\n",
       "      <td>tyhjyyttä</td>\n",
       "      <td>tyhjyys</td>\n",
       "      <td>NOUN</td>\n",
       "      <td>N</td>\n",
       "      <td>Case=Par|Number=Sing</td>\n",
       "      <td>0</td>\n",
       "      <td>root</td>\n",
       "      <td>_</td>\n",
       "      <td>_</td>\n",
       "    </tr>\n",
       "    <tr>\n",
       "      <th>2</th>\n",
       "      <td>1</td>\n",
       "      <td>Kävin</td>\n",
       "      <td>käydä</td>\n",
       "      <td>VERB</td>\n",
       "      <td>V</td>\n",
       "      <td>Mood=Ind|Number=Sing|Person=1|Tense=Past|VerbF...</td>\n",
       "      <td>0</td>\n",
       "      <td>root</td>\n",
       "      <td>_</td>\n",
       "      <td>PBSENSE=käydä.9</td>\n",
       "    </tr>\n",
       "    <tr>\n",
       "      <th>3</th>\n",
       "      <td>2</td>\n",
       "      <td>tänään</td>\n",
       "      <td>tänään</td>\n",
       "      <td>ADV</td>\n",
       "      <td>Adv</td>\n",
       "      <td>_</td>\n",
       "      <td>1</td>\n",
       "      <td>advmod</td>\n",
       "      <td>1:PBArgM_tmp</td>\n",
       "      <td>_</td>\n",
       "    </tr>\n",
       "    <tr>\n",
       "      <th>4</th>\n",
       "      <td>3</td>\n",
       "      <td>katsomassa</td>\n",
       "      <td>katsoa</td>\n",
       "      <td>VERB</td>\n",
       "      <td>V</td>\n",
       "      <td>Case=Ine|InfForm=3|Number=Sing|VerbForm=Inf|Vo...</td>\n",
       "      <td>1</td>\n",
       "      <td>xcomp</td>\n",
       "      <td>1:PBArg_1</td>\n",
       "      <td>PBSENSE=katsoa.1</td>\n",
       "    </tr>\n",
       "  </tbody>\n",
       "</table>\n",
       "</div>"
      ],
      "text/plain": [
       "  ID       TOKEN      LEM   POS POSABBR  \\\n",
       "0  1     Pelkkää   pelkkä   ADJ       A   \n",
       "1  2   tyhjyyttä  tyhjyys  NOUN       N   \n",
       "2  1       Kävin    käydä  VERB       V   \n",
       "3  2      tänään   tänään   ADV     Adv   \n",
       "4  3  katsomassa   katsoa  VERB       V   \n",
       "\n",
       "                                               FEATS HEAD  DEPREL  \\\n",
       "0                    Case=Par|Degree=Pos|Number=Sing    2    amod   \n",
       "1                               Case=Par|Number=Sing    0    root   \n",
       "2  Mood=Ind|Number=Sing|Person=1|Tense=Past|VerbF...    0    root   \n",
       "3                                                  _    1  advmod   \n",
       "4  Case=Ine|InfForm=3|Number=Sing|VerbForm=Inf|Vo...    1   xcomp   \n",
       "\n",
       "        DEPRELS              MISC  \n",
       "0             _                 _  \n",
       "1             _                 _  \n",
       "2             _   PBSENSE=käydä.9  \n",
       "3  1:PBArgM_tmp                 _  \n",
       "4     1:PBArg_1  PBSENSE=katsoa.1  "
      ]
     },
     "execution_count": 6,
     "metadata": {},
     "output_type": "execute_result"
    }
   ],
   "source": [
    "testdf.head()"
   ]
  },
  {
   "cell_type": "code",
   "execution_count": 7,
   "metadata": {
    "collapsed": false
   },
   "outputs": [],
   "source": [
    "generaldf = pd.concat([traindf, devdf, testdf])"
   ]
  },
  {
   "cell_type": "code",
   "execution_count": 8,
   "metadata": {
    "collapsed": false
   },
   "outputs": [],
   "source": [
    "id_le = preprocessing.LabelEncoder()\n",
    "lem_le = preprocessing.LabelEncoder()\n",
    "posabbr_le = preprocessing.LabelEncoder()\n",
    "feats_le = preprocessing.LabelEncoder()\n",
    "head_le = preprocessing.LabelEncoder()\n",
    "deprel_le = preprocessing.LabelEncoder()\n",
    "\n",
    "deprels_le = preprocessing.LabelEncoder()\n",
    "\n",
    "id_cod = id_le.fit_transform(generaldf[\"ID\"])\n",
    "lem_cod = lem_le.fit_transform(generaldf[\"LEM\"])\n",
    "posabbr_cod = posabbr_le.fit_transform(generaldf[\"POSABBR\"])\n",
    "feats_cod = feats_le.fit_transform(generaldf[\"FEATS\"])\n",
    "head_cod = head_le.fit_transform(generaldf[\"HEAD\"])\n",
    "deprel_cod = deprel_le.fit_transform(generaldf[\"DEPREL\"])\n",
    "\n",
    "deprels_cod = deprels_le.fit_transform(generaldf[\"DEPRELS\"])"
   ]
  },
  {
   "cell_type": "markdown",
   "metadata": {},
   "source": [
    "Model training stage"
   ]
  },
  {
   "cell_type": "code",
   "execution_count": 9,
   "metadata": {
    "collapsed": false
   },
   "outputs": [],
   "source": [
    "train_id = pd.DataFrame(id_le.transform(traindf[\"ID\"]), columns=[\"ID\"])\n",
    "train_lem = pd.DataFrame(lem_le.transform(traindf[\"LEM\"]), columns=[\"LEM\"])\n",
    "train_posabbr = pd.DataFrame(posabbr_le.transform(traindf[\"POSABBR\"]), columns=[\"POSABBR\"])\n",
    "train_feats = pd.DataFrame(feats_le.transform(traindf[\"FEATS\"]), columns=[\"FEATS\"])\n",
    "train_head = pd.DataFrame(head_le.transform(traindf[\"HEAD\"]), columns=[\"HEAD\"])\n",
    "train_deprel = pd.DataFrame(deprel_le.transform(traindf[\"DEPREL\"]), columns=[\"DEPREL\"])\n",
    "\n",
    "train_deprels = pd.DataFrame(deprels_le.transform(traindf[\"DEPRELS\"]), columns=[\"DEPRELS\"])"
   ]
  },
  {
   "cell_type": "code",
   "execution_count": 10,
   "metadata": {
    "collapsed": false
   },
   "outputs": [],
   "source": [
    "pre_features = pd.concat([train_id, train_lem, train_posabbr, train_feats, train_head, train_deprel], axis=1)\n",
    "\n",
    "features = pre_features.values\n",
    "target = train_deprels.values"
   ]
  },
  {
   "cell_type": "code",
   "execution_count": 11,
   "metadata": {
    "collapsed": false
   },
   "outputs": [
    {
     "data": {
      "text/plain": [
       "DecisionTreeClassifier(class_weight=None, criterion='gini', max_depth=None,\n",
       "            max_features=None, max_leaf_nodes=None,\n",
       "            min_impurity_split=1e-07, min_samples_leaf=1,\n",
       "            min_samples_split=2, min_weight_fraction_leaf=0.0,\n",
       "            presort=False, random_state=None, splitter='best')"
      ]
     },
     "execution_count": 11,
     "metadata": {},
     "output_type": "execute_result"
    }
   ],
   "source": [
    "clf = DecisionTreeClassifier()\n",
    "clf.fit(features, target)"
   ]
  },
  {
   "cell_type": "code",
   "execution_count": 12,
   "metadata": {
    "collapsed": false
   },
   "outputs": [
    {
     "name": "stdout",
     "output_type": "stream",
     "text": [
      "[ 0.11911812  0.29879778  0.04941744  0.10427211  0.17083229  0.25756227]\n"
     ]
    }
   ],
   "source": [
    "print(clf.feature_importances_)"
   ]
  },
  {
   "cell_type": "markdown",
   "metadata": {
    "collapsed": false
   },
   "source": [
    "Development stage"
   ]
  },
  {
   "cell_type": "code",
   "execution_count": 13,
   "metadata": {
    "collapsed": true
   },
   "outputs": [],
   "source": [
    "dev_id = pd.DataFrame(id_le.transform(devdf[\"ID\"]), columns=[\"ID\"])\n",
    "dev_lem = pd.DataFrame(lem_le.transform(devdf[\"LEM\"]), columns=[\"LEM\"])\n",
    "dev_posabbr = pd.DataFrame(posabbr_le.transform(devdf[\"POSABBR\"]), columns=[\"POSABBR\"])\n",
    "dev_feats = pd.DataFrame(feats_le.transform(devdf[\"FEATS\"]), columns=[\"FEATS\"])\n",
    "dev_head = pd.DataFrame(head_le.transform(devdf[\"HEAD\"]), columns=[\"HEAD\"])\n",
    "dev_deprel = pd.DataFrame(deprel_le.transform(devdf[\"DEPREL\"]), columns=[\"DEPREL\"])\n",
    "\n",
    "dev_deprels = pd.DataFrame(deprels_le.transform(devdf[\"DEPRELS\"]), columns=[\"DEPRELS\"])"
   ]
  },
  {
   "cell_type": "code",
   "execution_count": 14,
   "metadata": {
    "collapsed": false
   },
   "outputs": [],
   "source": [
    "pre_dev_features = pd.concat([dev_id, dev_lem, dev_posabbr, dev_feats, dev_head, dev_deprel], axis=1)\n",
    "\n",
    "dev_features = pre_dev_features.values\n",
    "dev_target = dev_deprels.values"
   ]
  },
  {
   "cell_type": "code",
   "execution_count": 15,
   "metadata": {
    "collapsed": false
   },
   "outputs": [
    {
     "data": {
      "text/plain": [
       "0.68409562274860825"
      ]
     },
     "execution_count": 15,
     "metadata": {},
     "output_type": "execute_result"
    }
   ],
   "source": [
    "dev_scores = clf.score(dev_features, dev_target)\n",
    "dev_scores"
   ]
  },
  {
   "cell_type": "markdown",
   "metadata": {
    "collapsed": false
   },
   "source": [
    "<ul>\n",
    "<li> id, lem, feats = 0.50900556707782996 </li>\n",
    "<li> id, pos, lem, head, feats, deprel =  0.68682458246916278 </li>\n",
    "<li> lem, head, deprel = 0.674926318087545 </li>\n",
    "<li> id, lem, head, deprel = 0.66641196375941492 </li>\n",
    "</ul>"
   ]
  },
  {
   "cell_type": "markdown",
   "metadata": {
    "collapsed": false
   },
   "source": [
    "Test stage"
   ]
  },
  {
   "cell_type": "code",
   "execution_count": 16,
   "metadata": {
    "collapsed": false
   },
   "outputs": [],
   "source": [
    "test_id = pd.DataFrame(id_le.transform(testdf[\"ID\"]), columns=[\"ID\"])\n",
    "test_lem = pd.DataFrame(lem_le.transform(testdf[\"LEM\"]), columns=[\"LEM\"])\n",
    "test_posabbr = pd.DataFrame(posabbr_le.transform(testdf[\"POSABBR\"]), columns=[\"POSABBR\"])\n",
    "test_feats = pd.DataFrame(feats_le.transform(testdf[\"FEATS\"]), columns=[\"FEATS\"])\n",
    "test_head = pd.DataFrame(head_le.transform(testdf[\"HEAD\"]), columns=[\"HEAD\"])\n",
    "test_deprel = pd.DataFrame(deprel_le.transform(testdf[\"DEPREL\"]), columns=[\"DEPREL\"])\n",
    "\n",
    "test_deprels = pd.DataFrame(deprels_le.transform(testdf[\"DEPRELS\"]), columns=[\"DEPRELS\"])"
   ]
  },
  {
   "cell_type": "code",
   "execution_count": 17,
   "metadata": {
    "collapsed": false
   },
   "outputs": [],
   "source": [
    "pre_test_features = pd.concat([test_id, test_lem, test_posabbr, test_feats, test_head, test_deprel], axis=1)\n",
    "\n",
    "test_features = pre_test_features.values\n",
    "test_target = test_deprels.values"
   ]
  },
  {
   "cell_type": "code",
   "execution_count": 18,
   "metadata": {
    "collapsed": false
   },
   "outputs": [
    {
     "data": {
      "text/plain": [
       "0.67363238512035006"
      ]
     },
     "execution_count": 18,
     "metadata": {},
     "output_type": "execute_result"
    }
   ],
   "source": [
    "test_scores = clf.score(test_features, test_target)\n",
    "test_scores"
   ]
  },
  {
   "cell_type": "code",
   "execution_count": null,
   "metadata": {
    "collapsed": true
   },
   "outputs": [],
   "source": []
  }
 ],
 "metadata": {
  "anaconda-cloud": {},
  "kernelspec": {
   "display_name": "Python [Root]",
   "language": "python",
   "name": "Python [Root]"
  },
  "language_info": {
   "codemirror_mode": {
    "name": "ipython",
    "version": 3
   },
   "file_extension": ".py",
   "mimetype": "text/x-python",
   "name": "python",
   "nbconvert_exporter": "python",
   "pygments_lexer": "ipython3",
   "version": "3.5.2"
  }
 },
 "nbformat": 4,
 "nbformat_minor": 0
}
